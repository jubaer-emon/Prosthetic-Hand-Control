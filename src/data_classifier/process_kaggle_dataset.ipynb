{
 "cells": [
  {
   "cell_type": "code",
   "execution_count": 20,
   "id": "38e52feb-7678-4847-9a84-7e92c9ea0d71",
   "metadata": {},
   "outputs": [
    {
     "name": "stdout",
     "output_type": "stream",
     "text": [
      "Skipping, found downloaded files in \".\\myoemgdata\" (use force=True to force download)\n"
     ]
    }
   ],
   "source": [
    "import opendatasets as od\n",
    "\n",
    "dataset_url = 'https://www.kaggle.com/datasets/dcaffo/myoemgdata'\n",
    "\n",
    "od.download(dataset_url,)"
   ]
  },
  {
   "cell_type": "code",
   "execution_count": 21,
   "id": "2bdee914-59d7-423e-a46b-a821341c30b8",
   "metadata": {},
   "outputs": [],
   "source": [
    "import numpy as np\n",
    "\n",
    "dataset_path = './myoemgdata/myo_ds_30l_10ol.npz'\n",
    "\n",
    "data = np.load(dataset_path)\n",
    "X, y = data['X'], data['y']"
   ]
  },
  {
   "cell_type": "code",
   "execution_count": 22,
   "id": "8b57b31b-2a64-441b-9a35-a943fa53720a",
   "metadata": {},
   "outputs": [
    {
     "data": {
      "text/plain": [
       "array([[[ 19,  26,  48, ...,  75,  28,  22],\n",
       "        [ 20,  26,  49, ...,  73,  30,  23],\n",
       "        [ 20,  23,  47, ...,  83,  34,  22],\n",
       "        ...,\n",
       "        [ 18,  22,  46, ...,  63,  23,  16],\n",
       "        [ 20,  20,  37, ...,  57,  22,  15],\n",
       "        [ 18,  23,  40, ...,  59,  23,  17]],\n",
       "\n",
       "       [[ 19,  30,  41, ...,  75,  28,  19],\n",
       "        [ 17,  25,  33, ...,  71,  27,  18],\n",
       "        [ 18,  24,  33, ...,  81,  27,  17],\n",
       "        ...,\n",
       "        [ 18,  22,  67, ...,  78,  27,  23],\n",
       "        [ 18,  21,  71, ...,  78,  31,  21],\n",
       "        [ 18,  23,  67, ...,  69,  30,  20]],\n",
       "\n",
       "       [[ 20,  21,  46, ...,  84,  37,  23],\n",
       "        [ 22,  21,  44, ...,  86,  36,  23],\n",
       "        [ 21,  21,  39, ...,  83,  34,  22],\n",
       "        ...,\n",
       "        [ 19,  24,  48, ...,  57,  27,  18],\n",
       "        [ 19,  24,  50, ...,  64,  28,  18],\n",
       "        [ 21,  24,  46, ...,  69,  31,  20]],\n",
       "\n",
       "       ...,\n",
       "\n",
       "       [[ 28, 140,  99, ...,  92,  24,  30],\n",
       "        [ 24, 130,  96, ...,  94,  28,  31],\n",
       "        [ 26, 133,  93, ..., 132,  35,  60],\n",
       "        ...,\n",
       "        [ 29, 144,  75, ..., 120,  27,  29],\n",
       "        [ 29, 140,  72, ..., 120,  30,  28],\n",
       "        [ 26, 116,  58, ..., 139,  38,  72]],\n",
       "\n",
       "       [[ 21, 140,  82, ..., 143,  45,  42],\n",
       "        [ 23, 141,  81, ..., 142,  46,  44],\n",
       "        [ 23, 104,  79, ..., 138,  52,  44],\n",
       "        ...,\n",
       "        [ 25, 131,  68, ..., 117,  29,  64],\n",
       "        [ 25, 130,  72, ...,  93,  30,  65],\n",
       "        [ 25, 130,  64, ...,  85,  40,  69]],\n",
       "\n",
       "       [[ 26, 124,  79, ...,  94,  43,  60],\n",
       "        [ 26, 114,  69, ..., 105,  47,  63],\n",
       "        [ 30, 129,  73, ..., 113,  48,  64],\n",
       "        ...,\n",
       "        [ 23, 109,  65, ..., 162,  44,  60],\n",
       "        [ 22, 109,  64, ..., 166,  45,  60],\n",
       "        [ 21, 109,  62, ..., 140,  45,  61]]], dtype=int16)"
      ]
     },
     "execution_count": 22,
     "metadata": {},
     "output_type": "execute_result"
    }
   ],
   "source": [
    "X"
   ]
  },
  {
   "cell_type": "code",
   "execution_count": 23,
   "id": "472b262d-eaf1-454b-89a2-4beaf41fdb2c",
   "metadata": {},
   "outputs": [
    {
     "data": {
      "text/plain": [
       "array([0, 0, 0, ..., 0, 0, 0], dtype=uint8)"
      ]
     },
     "execution_count": 23,
     "metadata": {},
     "output_type": "execute_result"
    }
   ],
   "source": [
    "y"
   ]
  },
  {
   "cell_type": "code",
   "execution_count": 24,
   "id": "f37f6359-1aae-482e-9c5b-6eb6109c8453",
   "metadata": {},
   "outputs": [
    {
     "data": {
      "text/plain": [
       "(5595, 30, 8)"
      ]
     },
     "execution_count": 24,
     "metadata": {},
     "output_type": "execute_result"
    }
   ],
   "source": [
    "X.shape"
   ]
  },
  {
   "cell_type": "code",
   "execution_count": 25,
   "id": "e805e7d1-f385-4a2e-8ade-0dd7cf18d80c",
   "metadata": {},
   "outputs": [
    {
     "data": {
      "text/plain": [
       "(5595,)"
      ]
     },
     "execution_count": 25,
     "metadata": {},
     "output_type": "execute_result"
    }
   ],
   "source": [
    "y.shape"
   ]
  },
  {
   "cell_type": "code",
   "execution_count": 26,
   "id": "e6bba9da-7f17-4f0f-8492-e3a8ff99bdb7",
   "metadata": {},
   "outputs": [
    {
     "data": {
      "text/plain": [
       "(2787, 30, 8)"
      ]
     },
     "execution_count": 26,
     "metadata": {},
     "output_type": "execute_result"
    }
   ],
   "source": [
    "X0 = X[y==0]\n",
    "X0.shape"
   ]
  },
  {
   "cell_type": "code",
   "execution_count": 27,
   "id": "cdf2830b-bc0b-4abc-b73e-288da47db374",
   "metadata": {},
   "outputs": [
    {
     "data": {
      "text/plain": [
       "array([[ 19,  26,  48, ...,  75,  28,  22],\n",
       "       [ 20,  26,  49, ...,  73,  30,  23],\n",
       "       [ 20,  23,  47, ...,  83,  34,  22],\n",
       "       ...,\n",
       "       [ 23, 109,  65, ..., 162,  44,  60],\n",
       "       [ 22, 109,  64, ..., 166,  45,  60],\n",
       "       [ 21, 109,  62, ..., 140,  45,  61]], dtype=int16)"
      ]
     },
     "execution_count": 27,
     "metadata": {},
     "output_type": "execute_result"
    }
   ],
   "source": [
    "X0_reshaped = X0.reshape(X0.shape[0]*X0.shape[1], X0.shape[2])\n",
    "X0_reshaped"
   ]
  },
  {
   "cell_type": "code",
   "execution_count": 28,
   "id": "e0e79df2-03aa-4514-a86d-c60d826b5908",
   "metadata": {},
   "outputs": [],
   "source": [
    "#X0_trimmed = X0_reshaped[:,:2]\n",
    "#X0_trimmed"
   ]
  },
  {
   "cell_type": "code",
   "execution_count": 29,
   "id": "45365f65-a732-4c44-bd01-b8d40d621e0d",
   "metadata": {},
   "outputs": [],
   "source": [
    "#X0_trimmed.shape"
   ]
  },
  {
   "cell_type": "code",
   "execution_count": 30,
   "id": "baefa67a-2085-4e7a-883f-49c8f0d569dd",
   "metadata": {},
   "outputs": [
    {
     "data": {
      "text/plain": [
       "{0, 1, 2, 7}"
      ]
     },
     "execution_count": 30,
     "metadata": {},
     "output_type": "execute_result"
    }
   ],
   "source": [
    "set(y)"
   ]
  },
  {
   "cell_type": "code",
   "execution_count": 31,
   "id": "27bff1e0-c447-43ca-aa81-6af483b793b1",
   "metadata": {},
   "outputs": [
    {
     "data": {
      "text/plain": [
       "{0, 1, 2, 3}"
      ]
     },
     "execution_count": 31,
     "metadata": {},
     "output_type": "execute_result"
    }
   ],
   "source": [
    "y_replaced = np.where(y==7, 3, y)\n",
    "set(y_replaced)"
   ]
  },
  {
   "cell_type": "code",
   "execution_count": 32,
   "id": "2dadd9dc-71f7-4b11-ab73-a09c12a10692",
   "metadata": {},
   "outputs": [],
   "source": [
    "from pathlib import Path\n",
    "\n",
    "path = Path('./data/kaggle_dataset')\n",
    "\n",
    "path.mkdir(parents=True,exist_ok=True)"
   ]
  },
  {
   "cell_type": "code",
   "execution_count": 33,
   "id": "1f9054fd-e19c-4acd-b8ec-06ae2344227e",
   "metadata": {},
   "outputs": [
    {
     "data": {
      "text/plain": [
       "WindowsPath('data/kaggle_dataset/0_neutral.csv')"
      ]
     },
     "execution_count": 33,
     "metadata": {},
     "output_type": "execute_result"
    }
   ],
   "source": [
    "X0_path = path.joinpath('0_neutral.csv')\n",
    "X0_path"
   ]
  },
  {
   "cell_type": "code",
   "execution_count": 34,
   "id": "2c5f46f2-9259-488a-b71e-e13453169cf1",
   "metadata": {},
   "outputs": [],
   "source": [
    "import pandas as pd\n",
    "\n",
    "channel_count = X.shape[2]\n",
    "channels = [ f'emg{i}' for i in range(channel_count) ]\n",
    "targets = [ 'neutral', 'flexion', 'extension', 'fist' ]\n",
    "\n",
    "for i, target in enumerate(targets):\n",
    "    Xi = X[y_replaced==i]\n",
    "    Xi_reshaped = Xi.reshape(Xi.shape[0]*Xi.shape[1], Xi.shape[2])\n",
    "#    Xi_trimmed = Xi_reshaped[:,:channel_count]\n",
    "\n",
    "    Xi_path = path.joinpath(f'{i}_{target}.csv')\n",
    "    df = pd.DataFrame(Xi_reshaped, columns=channels)\n",
    "    df.to_csv(Xi_path, index=False)"
   ]
  },
  {
   "cell_type": "code",
   "execution_count": 35,
   "id": "d2796b11-6bfa-4621-b52f-799bf7973f3a",
   "metadata": {
    "scrolled": true
   },
   "outputs": [
    {
     "data": {
      "text/html": [
       "<div>\n",
       "<style scoped>\n",
       "    .dataframe tbody tr th:only-of-type {\n",
       "        vertical-align: middle;\n",
       "    }\n",
       "\n",
       "    .dataframe tbody tr th {\n",
       "        vertical-align: top;\n",
       "    }\n",
       "\n",
       "    .dataframe thead th {\n",
       "        text-align: right;\n",
       "    }\n",
       "</style>\n",
       "<table border=\"1\" class=\"dataframe\">\n",
       "  <thead>\n",
       "    <tr style=\"text-align: right;\">\n",
       "      <th></th>\n",
       "      <th>emg0</th>\n",
       "      <th>emg1</th>\n",
       "      <th>emg2</th>\n",
       "      <th>emg3</th>\n",
       "      <th>emg4</th>\n",
       "      <th>emg5</th>\n",
       "      <th>emg6</th>\n",
       "      <th>emg7</th>\n",
       "    </tr>\n",
       "  </thead>\n",
       "  <tbody>\n",
       "    <tr>\n",
       "      <th>0</th>\n",
       "      <td>19</td>\n",
       "      <td>26</td>\n",
       "      <td>48</td>\n",
       "      <td>173</td>\n",
       "      <td>215</td>\n",
       "      <td>75</td>\n",
       "      <td>28</td>\n",
       "      <td>22</td>\n",
       "    </tr>\n",
       "    <tr>\n",
       "      <th>1</th>\n",
       "      <td>20</td>\n",
       "      <td>26</td>\n",
       "      <td>49</td>\n",
       "      <td>170</td>\n",
       "      <td>204</td>\n",
       "      <td>73</td>\n",
       "      <td>30</td>\n",
       "      <td>23</td>\n",
       "    </tr>\n",
       "    <tr>\n",
       "      <th>2</th>\n",
       "      <td>20</td>\n",
       "      <td>23</td>\n",
       "      <td>47</td>\n",
       "      <td>168</td>\n",
       "      <td>196</td>\n",
       "      <td>83</td>\n",
       "      <td>34</td>\n",
       "      <td>22</td>\n",
       "    </tr>\n",
       "    <tr>\n",
       "      <th>3</th>\n",
       "      <td>19</td>\n",
       "      <td>24</td>\n",
       "      <td>50</td>\n",
       "      <td>174</td>\n",
       "      <td>181</td>\n",
       "      <td>81</td>\n",
       "      <td>31</td>\n",
       "      <td>21</td>\n",
       "    </tr>\n",
       "    <tr>\n",
       "      <th>4</th>\n",
       "      <td>18</td>\n",
       "      <td>24</td>\n",
       "      <td>49</td>\n",
       "      <td>186</td>\n",
       "      <td>203</td>\n",
       "      <td>78</td>\n",
       "      <td>31</td>\n",
       "      <td>21</td>\n",
       "    </tr>\n",
       "    <tr>\n",
       "      <th>...</th>\n",
       "      <td>...</td>\n",
       "      <td>...</td>\n",
       "      <td>...</td>\n",
       "      <td>...</td>\n",
       "      <td>...</td>\n",
       "      <td>...</td>\n",
       "      <td>...</td>\n",
       "      <td>...</td>\n",
       "    </tr>\n",
       "    <tr>\n",
       "      <th>83605</th>\n",
       "      <td>23</td>\n",
       "      <td>111</td>\n",
       "      <td>71</td>\n",
       "      <td>108</td>\n",
       "      <td>319</td>\n",
       "      <td>174</td>\n",
       "      <td>40</td>\n",
       "      <td>33</td>\n",
       "    </tr>\n",
       "    <tr>\n",
       "      <th>83606</th>\n",
       "      <td>21</td>\n",
       "      <td>95</td>\n",
       "      <td>66</td>\n",
       "      <td>102</td>\n",
       "      <td>305</td>\n",
       "      <td>161</td>\n",
       "      <td>35</td>\n",
       "      <td>59</td>\n",
       "    </tr>\n",
       "    <tr>\n",
       "      <th>83607</th>\n",
       "      <td>23</td>\n",
       "      <td>109</td>\n",
       "      <td>65</td>\n",
       "      <td>112</td>\n",
       "      <td>318</td>\n",
       "      <td>162</td>\n",
       "      <td>44</td>\n",
       "      <td>60</td>\n",
       "    </tr>\n",
       "    <tr>\n",
       "      <th>83608</th>\n",
       "      <td>22</td>\n",
       "      <td>109</td>\n",
       "      <td>64</td>\n",
       "      <td>116</td>\n",
       "      <td>329</td>\n",
       "      <td>166</td>\n",
       "      <td>45</td>\n",
       "      <td>60</td>\n",
       "    </tr>\n",
       "    <tr>\n",
       "      <th>83609</th>\n",
       "      <td>21</td>\n",
       "      <td>109</td>\n",
       "      <td>62</td>\n",
       "      <td>113</td>\n",
       "      <td>340</td>\n",
       "      <td>140</td>\n",
       "      <td>45</td>\n",
       "      <td>61</td>\n",
       "    </tr>\n",
       "  </tbody>\n",
       "</table>\n",
       "<p>83610 rows × 8 columns</p>\n",
       "</div>"
      ],
      "text/plain": [
       "       emg0  emg1  emg2  emg3  emg4  emg5  emg6  emg7\n",
       "0        19    26    48   173   215    75    28    22\n",
       "1        20    26    49   170   204    73    30    23\n",
       "2        20    23    47   168   196    83    34    22\n",
       "3        19    24    50   174   181    81    31    21\n",
       "4        18    24    49   186   203    78    31    21\n",
       "...     ...   ...   ...   ...   ...   ...   ...   ...\n",
       "83605    23   111    71   108   319   174    40    33\n",
       "83606    21    95    66   102   305   161    35    59\n",
       "83607    23   109    65   112   318   162    44    60\n",
       "83608    22   109    64   116   329   166    45    60\n",
       "83609    21   109    62   113   340   140    45    61\n",
       "\n",
       "[83610 rows x 8 columns]"
      ]
     },
     "execution_count": 35,
     "metadata": {},
     "output_type": "execute_result"
    }
   ],
   "source": [
    "pd.read_csv(X0_path)"
   ]
  },
  {
   "cell_type": "code",
   "execution_count": 36,
   "id": "0b6dde7c-549e-4e62-9738-1d54a607f817",
   "metadata": {},
   "outputs": [
    {
     "data": {
      "text/html": [
       "<div>\n",
       "<style scoped>\n",
       "    .dataframe tbody tr th:only-of-type {\n",
       "        vertical-align: middle;\n",
       "    }\n",
       "\n",
       "    .dataframe tbody tr th {\n",
       "        vertical-align: top;\n",
       "    }\n",
       "\n",
       "    .dataframe thead th {\n",
       "        text-align: right;\n",
       "    }\n",
       "</style>\n",
       "<table border=\"1\" class=\"dataframe\">\n",
       "  <thead>\n",
       "    <tr style=\"text-align: right;\">\n",
       "      <th></th>\n",
       "      <th>emg1</th>\n",
       "      <th>emg2</th>\n",
       "    </tr>\n",
       "  </thead>\n",
       "  <tbody>\n",
       "    <tr>\n",
       "      <th>0</th>\n",
       "      <td>26</td>\n",
       "      <td>48</td>\n",
       "    </tr>\n",
       "    <tr>\n",
       "      <th>1</th>\n",
       "      <td>26</td>\n",
       "      <td>49</td>\n",
       "    </tr>\n",
       "    <tr>\n",
       "      <th>2</th>\n",
       "      <td>23</td>\n",
       "      <td>47</td>\n",
       "    </tr>\n",
       "    <tr>\n",
       "      <th>3</th>\n",
       "      <td>24</td>\n",
       "      <td>50</td>\n",
       "    </tr>\n",
       "    <tr>\n",
       "      <th>4</th>\n",
       "      <td>24</td>\n",
       "      <td>49</td>\n",
       "    </tr>\n",
       "    <tr>\n",
       "      <th>...</th>\n",
       "      <td>...</td>\n",
       "      <td>...</td>\n",
       "    </tr>\n",
       "    <tr>\n",
       "      <th>83605</th>\n",
       "      <td>111</td>\n",
       "      <td>71</td>\n",
       "    </tr>\n",
       "    <tr>\n",
       "      <th>83606</th>\n",
       "      <td>95</td>\n",
       "      <td>66</td>\n",
       "    </tr>\n",
       "    <tr>\n",
       "      <th>83607</th>\n",
       "      <td>109</td>\n",
       "      <td>65</td>\n",
       "    </tr>\n",
       "    <tr>\n",
       "      <th>83608</th>\n",
       "      <td>109</td>\n",
       "      <td>64</td>\n",
       "    </tr>\n",
       "    <tr>\n",
       "      <th>83609</th>\n",
       "      <td>109</td>\n",
       "      <td>62</td>\n",
       "    </tr>\n",
       "  </tbody>\n",
       "</table>\n",
       "<p>83610 rows × 2 columns</p>\n",
       "</div>"
      ],
      "text/plain": [
       "       emg1  emg2\n",
       "0        26    48\n",
       "1        26    49\n",
       "2        23    47\n",
       "3        24    50\n",
       "4        24    49\n",
       "...     ...   ...\n",
       "83605   111    71\n",
       "83606    95    66\n",
       "83607   109    65\n",
       "83608   109    64\n",
       "83609   109    62\n",
       "\n",
       "[83610 rows x 2 columns]"
      ]
     },
     "execution_count": 36,
     "metadata": {},
     "output_type": "execute_result"
    }
   ],
   "source": [
    "pd.read_csv(X0_path, usecols=['emg1', 'emg2'])"
   ]
  },
  {
   "cell_type": "code",
   "execution_count": 37,
   "id": "cb82c169-1aa0-4a2b-b517-32483bb1fb4e",
   "metadata": {},
   "outputs": [
    {
     "data": {
      "text/plain": [
       "([       emg0  emg1\n",
       "  0        19    26\n",
       "  1        20    26\n",
       "  2        20    23\n",
       "  3        19    24\n",
       "  4        18    24\n",
       "  ...     ...   ...\n",
       "  83605    23   111\n",
       "  83606    21    95\n",
       "  83607    23   109\n",
       "  83608    22   109\n",
       "  83609    21   109\n",
       "  \n",
       "  [83610 rows x 2 columns],\n",
       "         emg0  emg1\n",
       "  0       123   205\n",
       "  1       127   252\n",
       "  2       138   261\n",
       "  3       141   244\n",
       "  4       171   296\n",
       "  ...     ...   ...\n",
       "  28075    27   220\n",
       "  28076    27   190\n",
       "  28077    28   183\n",
       "  28078    29   184\n",
       "  28079    27   173\n",
       "  \n",
       "  [28080 rows x 2 columns],\n",
       "         emg0  emg1\n",
       "  0        19    26\n",
       "  1        17    23\n",
       "  2        16    21\n",
       "  3        18    21\n",
       "  4        17    20\n",
       "  ...     ...   ...\n",
       "  28075    23    80\n",
       "  28076    22    73\n",
       "  28077    20    73\n",
       "  28078    22    81\n",
       "  28079    24    72\n",
       "  \n",
       "  [28080 rows x 2 columns],\n",
       "         emg0  emg1\n",
       "  0        18    21\n",
       "  1        17    21\n",
       "  2        19    24\n",
       "  3        19    25\n",
       "  4        17    28\n",
       "  ...     ...   ...\n",
       "  28075    29    68\n",
       "  28076    37    71\n",
       "  28077    39    80\n",
       "  28078    40    79\n",
       "  28079    45    67\n",
       "  \n",
       "  [28080 rows x 2 columns]],\n",
       " ['emg0', 'emg1'],\n",
       " ['neutral', 'flexion', 'extension', 'fist'])"
      ]
     },
     "execution_count": 37,
     "metadata": {},
     "output_type": "execute_result"
    }
   ],
   "source": [
    "from os import scandir\n",
    "\n",
    "def get_data(dataset_name, channels):    \n",
    "    path = f'./data/{dataset_name}'\n",
    "    \n",
    "    with scandir(path) as it:\n",
    "        entries = []\n",
    "        for entry in it:\n",
    "            if not entry.name.startswith('.') and entry.name.endswith('.csv') and entry.is_file():\n",
    "                entries.append(entry)\n",
    "    \n",
    "    records = [None] * len(entries)\n",
    "    targets = [None] * len(entries)\n",
    "    \n",
    "    \n",
    "    for entry in entries:\n",
    "        i = int(entry.name[:entry.name.index('_')])\n",
    "        targets[i] = entry.name[entry.name.index('_')+1:entry.name.index('.')]\n",
    "        records[i] = pd.read_csv(entry.path, usecols=channels)\n",
    "    return records, channels, targets\n",
    "\n",
    "get_data('kaggle_dataset', ['emg0', 'emg1'])"
   ]
  }
 ],
 "metadata": {
  "kernelspec": {
   "display_name": "Python 3 (ipykernel)",
   "language": "python",
   "name": "python3"
  },
  "language_info": {
   "codemirror_mode": {
    "name": "ipython",
    "version": 3
   },
   "file_extension": ".py",
   "mimetype": "text/x-python",
   "name": "python",
   "nbconvert_exporter": "python",
   "pygments_lexer": "ipython3",
   "version": "3.11.7"
  }
 },
 "nbformat": 4,
 "nbformat_minor": 5
}
